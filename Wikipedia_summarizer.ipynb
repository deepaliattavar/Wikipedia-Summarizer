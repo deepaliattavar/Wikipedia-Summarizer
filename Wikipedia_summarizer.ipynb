{
  "cells": [
    {
      "cell_type": "code",
      "execution_count": 1,
      "metadata": {
        "colab": {
          "base_uri": "https://localhost:8080/"
        },
        "id": "MtTNZvqPV5A8",
        "outputId": "1ec49c54-87af-4ae5-b45c-5216f7e36607"
      },
      "outputs": [
        {
          "output_type": "stream",
          "name": "stdout",
          "text": [
            "[nltk_data] Downloading package stopwords to /root/nltk_data...\n",
            "[nltk_data]   Unzipping corpora/stopwords.zip.\n",
            "[nltk_data] Downloading package punkt to /root/nltk_data...\n",
            "[nltk_data]   Unzipping tokenizers/punkt.zip.\n"
          ]
        },
        {
          "output_type": "execute_result",
          "data": {
            "text/plain": [
              "True"
            ]
          },
          "metadata": {},
          "execution_count": 1
        }
      ],
      "source": [
        "#importing libraries\n",
        "from nltk.corpus import stopwords\n",
        "from nltk.stem import PorterStemmer\n",
        "from nltk.tokenize import word_tokenize, sent_tokenize\n",
        "import bs4 as BeautifulSoup\n",
        "import urllib.request  \n",
        "import nltk\n",
        "nltk.download('stopwords')\n",
        "import nltk\n",
        "nltk.download('punkt')"
      ]
    },
    {
      "cell_type": "code",
      "execution_count": 2,
      "metadata": {
        "id": "aU_J5yw1XLV1"
      },
      "outputs": [],
      "source": [
        "def _create_dictionary_table(text_string) -> dict:\n",
        "   \n",
        "    #removing stop words\n",
        "    stop_words = set(stopwords.words(\"english\"))\n",
        "    \n",
        "    words = word_tokenize(text_string)\n",
        "    \n",
        "    #reducing words to their root form\n",
        "    stem = PorterStemmer()\n",
        "    \n",
        "    #creating dictionary for the word frequency table\n",
        "    frequency_table = dict()\n",
        "    for wd in words:\n",
        "        wd = stem.stem(wd)\n",
        "        if wd in stop_words:\n",
        "            continue\n",
        "        if wd in frequency_table:\n",
        "            frequency_table[wd] += 1\n",
        "        else:\n",
        "            frequency_table[wd] = 1\n",
        "\n",
        "    return frequency_table"
      ]
    },
    {
      "cell_type": "markdown",
      "source": [
        "process to associate a numerical value with a sentence based on the used algorithm's priority"
      ],
      "metadata": {
        "id": "FjGy2tEHZzkZ"
      }
    },
    {
      "cell_type": "code",
      "execution_count": 3,
      "metadata": {
        "id": "agTXJ984XRaY"
      },
      "outputs": [],
      "source": [
        "def _calculate_sentence_scores(sentences, frequency_table) -> dict:   \n",
        "\n",
        "    #algorithm for scoring a sentence by its words\n",
        "    sentence_weight = dict()\n",
        "\n",
        "    for sentence in sentences:\n",
        "        sentence_wordcount = (len(word_tokenize(sentence)))\n",
        "        sentence_wordcount_without_stop_words = 0\n",
        "        for word_weight in frequency_table:\n",
        "            if word_weight in sentence.lower():\n",
        "                sentence_wordcount_without_stop_words += 1\n",
        "                if sentence[:7] in sentence_weight:\n",
        "                    sentence_weight[sentence[:7]] += frequency_table[word_weight]\n",
        "                else:\n",
        "                    sentence_weight[sentence[:7]] = frequency_table[word_weight]\n",
        "\n",
        "        sentence_weight[sentence[:7]] = sentence_weight[sentence[:7]] / sentence_wordcount_without_stop_words\n",
        "\n",
        "    return sentence_weight"
      ]
    },
    {
      "cell_type": "code",
      "execution_count": 4,
      "metadata": {
        "id": "L5xBKR_SXWLs"
      },
      "outputs": [],
      "source": [
        "def _calculate_average_score(sentence_weight) -> int:\n",
        "   \n",
        "    #calculating the average score for the sentences\n",
        "    sum_values = 0\n",
        "    for entry in sentence_weight:\n",
        "        sum_values += sentence_weight[entry]\n",
        "\n",
        "    #getting sentence average value from source text\n",
        "    average_score = (sum_values / len(sentence_weight))\n",
        "\n",
        "    return average_score"
      ]
    },
    {
      "cell_type": "code",
      "execution_count": 5,
      "metadata": {
        "id": "5OvTU7l3Xe8X"
      },
      "outputs": [],
      "source": [
        "def _get_article_summary(sentences, sentence_weight, threshold):\n",
        "    sentence_counter = 0\n",
        "    article_summary = ''\n",
        "\n",
        "    for sentence in sentences:\n",
        "        if sentence[:7] in sentence_weight and sentence_weight[sentence[:7]] >= (threshold):\n",
        "            article_summary += \" \" + sentence\n",
        "            sentence_counter += 1\n",
        "\n",
        "    return article_summary"
      ]
    },
    {
      "cell_type": "code",
      "execution_count": 6,
      "metadata": {
        "id": "nm8IRyd9Xk4m"
      },
      "outputs": [],
      "source": [
        "def _run_article_summary(article):\n",
        "    \n",
        "    #creating a dictionary for the word frequency table\n",
        "    frequency_table = _create_dictionary_table(article)\n",
        "\n",
        "    #tokenizing the sentences\n",
        "    sentences = sent_tokenize(article)\n",
        "\n",
        "    #algorithm for scoring a sentence by its words\n",
        "    sentence_scores = _calculate_sentence_scores(sentences, frequency_table)\n",
        "\n",
        "    #getting the threshold\n",
        "    threshold = _calculate_average_score(sentence_scores)\n",
        "\n",
        "    #producing the summary\n",
        "    article_summary = _get_article_summary(sentences, sentence_scores, 1.5 * threshold)\n",
        "\n",
        "    return article_summary"
      ]
    },
    {
      "cell_type": "code",
      "execution_count": 7,
      "metadata": {
        "id": "nZKeplO_V5BI"
      },
      "outputs": [],
      "source": [
        "#fetching the content from the URL\n",
        "fetched_data = urllib.request.urlopen('https://en.wikipedia.org/wiki/Charles_Leclerc')\n",
        "article_read = fetched_data.read()"
      ]
    },
    {
      "cell_type": "code",
      "execution_count": 8,
      "metadata": {
        "id": "i-r6k_7XW5z0"
      },
      "outputs": [],
      "source": [
        "#parsing the URL content and storing in a variable\n",
        "article_parsed = BeautifulSoup.BeautifulSoup(article_read,'html.parser')"
      ]
    },
    {
      "cell_type": "code",
      "execution_count": 9,
      "metadata": {
        "id": "_hiUjuUbW_a1"
      },
      "outputs": [],
      "source": [
        "#returning <p> tags\n",
        "paragraphs = article_parsed.find_all('p')\n",
        "article_content = ''"
      ]
    },
    {
      "cell_type": "code",
      "execution_count": 10,
      "metadata": {
        "id": "c0Sm69YGXFnO"
      },
      "outputs": [],
      "source": [
        "#looping through the paragraphs and adding them to the variable\n",
        "for p in paragraphs:  \n",
        "    article_content += p.text"
      ]
    },
    {
      "cell_type": "code",
      "execution_count": 11,
      "metadata": {
        "colab": {
          "base_uri": "https://localhost:8080/"
        },
        "id": "dpOxL7dcXnpf",
        "outputId": "f6afe0a0-c49b-4804-df85-1c024728b449"
      },
      "outputs": [
        {
          "output_type": "stream",
          "name": "stdout",
          "text": [
            " He would also finish fourth in the sprint race the next day, giving him a 50-point championship lead over Rowland. For Leclerc's final race, he started in seventh position. [65]\n",
            "In China, Leclerc qualified fourth behind Vettel. He would finish third again in France. He ultimately finished the race in fourth place. He would go on to finish the race in sixth place, his worst finish of the season. He went on to finish the race in fourth place. [80] In the race, Leclerc collided with his team-mate Sebastian Vettel on the first lap, causing them both to retire. [92] Leclerc finished the championship in eighth, scoring 98 points.\n"
          ]
        }
      ],
      "source": [
        "if __name__ == '__main__':\n",
        "    summary_results = _run_article_summary(article_content)\n",
        "    print(summary_results)"
      ]
    }
  ],
  "metadata": {
    "colab": {
      "collapsed_sections": [],
      "name": "Wikipedia_summarizer.ipynb",
      "provenance": []
    },
    "kernelspec": {
      "display_name": "Python 3",
      "language": "python",
      "name": "python3"
    },
    "language_info": {
      "codemirror_mode": {
        "name": "ipython",
        "version": 3
      },
      "file_extension": ".py",
      "mimetype": "text/x-python",
      "name": "python",
      "nbconvert_exporter": "python",
      "pygments_lexer": "ipython3",
      "version": "3.8.5"
    }
  },
  "nbformat": 4,
  "nbformat_minor": 0
}